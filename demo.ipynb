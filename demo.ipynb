{
 "cells": [
  {
   "cell_type": "markdown",
   "metadata": {},
   "source": [
    "# Welcome to the Schema Validator\n",
    "\n",
    "This notebook contains examples for how to use the schema validator library, highlights the motivations and current shortcomings"
   ]
  },
  {
   "cell_type": "code",
   "execution_count": 2,
   "metadata": {},
   "outputs": [],
   "source": [
    "import pandera as pa\n",
    "import sqlalchemy\n",
    "import schema_validator\n",
    "import pandas as pd\n",
    "from testcontainers.postgres import PostgresContainer"
   ]
  },
  {
   "cell_type": "markdown",
   "metadata": {},
   "source": [
    "# Pandera Basics\n",
    "\n",
    "Pandera is a nifty 3rd-party library that can be used to make sure DataFrames satisfy a specified structure / schema. "
   ]
  },
  {
   "cell_type": "code",
   "execution_count": 3,
   "metadata": {},
   "outputs": [
    {
     "data": {
      "text/html": [
       "<div>\n",
       "<style scoped>\n",
       "    .dataframe tbody tr th:only-of-type {\n",
       "        vertical-align: middle;\n",
       "    }\n",
       "\n",
       "    .dataframe tbody tr th {\n",
       "        vertical-align: top;\n",
       "    }\n",
       "\n",
       "    .dataframe thead th {\n",
       "        text-align: right;\n",
       "    }\n",
       "</style>\n",
       "<table border=\"1\" class=\"dataframe\">\n",
       "  <thead>\n",
       "    <tr style=\"text-align: right;\">\n",
       "      <th></th>\n",
       "      <th>Name</th>\n",
       "      <th>Age</th>\n",
       "      <th>Genre</th>\n",
       "    </tr>\n",
       "  </thead>\n",
       "  <tbody>\n",
       "    <tr>\n",
       "      <th>0</th>\n",
       "      <td>Alice</td>\n",
       "      <td>25</td>\n",
       "      <td>Pop</td>\n",
       "    </tr>\n",
       "    <tr>\n",
       "      <th>1</th>\n",
       "      <td>Bob</td>\n",
       "      <td>30</td>\n",
       "      <td>Rock</td>\n",
       "    </tr>\n",
       "    <tr>\n",
       "      <th>2</th>\n",
       "      <td>Charlie</td>\n",
       "      <td>35</td>\n",
       "      <td>Jazz</td>\n",
       "    </tr>\n",
       "  </tbody>\n",
       "</table>\n",
       "</div>"
      ],
      "text/plain": [
       "      Name  Age Genre\n",
       "0    Alice   25   Pop\n",
       "1      Bob   30  Rock\n",
       "2  Charlie   35  Jazz"
      ]
     },
     "execution_count": 3,
     "metadata": {},
     "output_type": "execute_result"
    }
   ],
   "source": [
    "example_dataframe_schema = pa.DataFrameSchema({\n",
    "    \"Name\": pa.Column(pa.String),\n",
    "    \"Age\": pa.Column(pa.Int, checks=[pa.Check.less_than(100), pa.Check.greater_than(0)]),\n",
    "    \"Genre\": pa.Column(pa.String, checks=pa.Check.isin([\"Pop\", \"Rock\", \"Jazz\"]))\n",
    "})\n",
    "\n",
    "valid_df = pd.DataFrame({'Name': ['Alice', 'Bob', 'Charlie'], 'Age': [25, 30, 35], 'Genre': [\"Pop\", \"Rock\", \"Jazz\"]})\n",
    "\n",
    "example_dataframe_schema.validate(valid_df)"
   ]
  },
  {
   "cell_type": "markdown",
   "metadata": {},
   "source": [
    "Pandera verifies the presence of columns, checks their dtypes, and enforces any other checks (nullability, greater/less than, allowed values, custom functions...)\n",
    "\n",
    "If any checks fail, a `pa.errors.SchemaError` will be raised on the call to `validate`\n",
    "\n",
    "Let's try a few examples that should fail..."
   ]
  },
  {
   "cell_type": "code",
   "execution_count": 4,
   "metadata": {},
   "outputs": [
    {
     "name": "stdout",
     "output_type": "stream",
     "text": [
      "Column 'Age' failed element-wise validator number 1: greater_than(0) failure cases: -1\n"
     ]
    }
   ],
   "source": [
    "# This should fail due to negative age\n",
    "invalid_age_df = pd.DataFrame({'Name': ['Alice', 'Bob', 'Charlie'], 'Age': [-1, 30, 35], 'Genre': [\"Pop\", \"Rock\", \"Jazz\"]})\n",
    "\n",
    "try:\n",
    "    example_dataframe_schema.validate(invalid_age_df)\n",
    "except pa.errors.SchemaError as e:\n",
    "    print(e)"
   ]
  },
  {
   "cell_type": "code",
   "execution_count": 5,
   "metadata": {},
   "outputs": [
    {
     "name": "stdout",
     "output_type": "stream",
     "text": [
      "Column 'Genre' failed element-wise validator number 0: isin(['Pop', 'Rock', 'Jazz']) failure cases: Soul, Funk, Classical\n"
     ]
    }
   ],
   "source": [
    "# This should fail due to genres outside of the allowed values \n",
    "invalid_genre_df = pd.DataFrame({'Name': ['Alice', 'Bob', 'Charlie'], 'Age': [25, 30, 35], 'Genre': [\"Soul\", \"Funk\", \"Classical\"]})\n",
    "\n",
    "try:\n",
    "    example_dataframe_schema.validate(invalid_genre_df)\n",
    "except pa.errors.SchemaError as e:\n",
    "    print(e)"
   ]
  },
  {
   "cell_type": "code",
   "execution_count": 6,
   "metadata": {},
   "outputs": [
    {
     "name": "stdout",
     "output_type": "stream",
     "text": [
      "column 'Genre' not in dataframe. Columns in dataframe: ['Name', 'Age']\n"
     ]
    }
   ],
   "source": [
    "# This should fail due to missing genre column\n",
    "missing_column_df = pd.DataFrame({'Name': ['Alice', 'Bob', 'Charlie'], 'Age': [25, 30, 35]})\n",
    "\n",
    "try:\n",
    "    example_dataframe_schema.validate(missing_column_df)\n",
    "except pa.errors.SchemaError as e:\n",
    "    print(e)"
   ]
  },
  {
   "cell_type": "markdown",
   "metadata": {},
   "source": [
    "Pandera also allows us to specify a schema using pydantic-style syntax:"
   ]
  },
  {
   "cell_type": "code",
   "execution_count": 7,
   "metadata": {},
   "outputs": [
    {
     "data": {
      "text/html": [
       "<div>\n",
       "<style scoped>\n",
       "    .dataframe tbody tr th:only-of-type {\n",
       "        vertical-align: middle;\n",
       "    }\n",
       "\n",
       "    .dataframe tbody tr th {\n",
       "        vertical-align: top;\n",
       "    }\n",
       "\n",
       "    .dataframe thead th {\n",
       "        text-align: right;\n",
       "    }\n",
       "</style>\n",
       "<table border=\"1\" class=\"dataframe\">\n",
       "  <thead>\n",
       "    <tr style=\"text-align: right;\">\n",
       "      <th></th>\n",
       "      <th>Name</th>\n",
       "      <th>Age</th>\n",
       "      <th>Genre</th>\n",
       "    </tr>\n",
       "  </thead>\n",
       "  <tbody>\n",
       "    <tr>\n",
       "      <th>0</th>\n",
       "      <td>Alice</td>\n",
       "      <td>25</td>\n",
       "      <td>Pop</td>\n",
       "    </tr>\n",
       "    <tr>\n",
       "      <th>1</th>\n",
       "      <td>Bob</td>\n",
       "      <td>30</td>\n",
       "      <td>Rock</td>\n",
       "    </tr>\n",
       "    <tr>\n",
       "      <th>2</th>\n",
       "      <td>Charlie</td>\n",
       "      <td>35</td>\n",
       "      <td>Jazz</td>\n",
       "    </tr>\n",
       "  </tbody>\n",
       "</table>\n",
       "</div>"
      ],
      "text/plain": [
       "      Name  Age Genre\n",
       "0    Alice   25   Pop\n",
       "1      Bob   30  Rock\n",
       "2  Charlie   35  Jazz"
      ]
     },
     "execution_count": 7,
     "metadata": {},
     "output_type": "execute_result"
    }
   ],
   "source": [
    "class ExampleDataFrameModel(pa.DataFrameModel):\n",
    "    Age: int = pa.Field(ge=0, le=100)\n",
    "    Name: str\n",
    "    Genre: str = pa.Field(isin=[\"Pop\", \"Rock\", \"Jazz\"])\n",
    "\n",
    "ExampleDataFrameModel.validate(valid_df)"
   ]
  },
  {
   "cell_type": "markdown",
   "metadata": {},
   "source": [
    "## Pandera Custom Checks\n",
    "\n",
    "Just to demonstrate how powerful Pandera checks can be, let's create a custom check that verifies every other letter in a string is \"e\":"
   ]
  },
  {
   "cell_type": "code",
   "execution_count": 8,
   "metadata": {},
   "outputs": [
    {
     "data": {
      "text/html": [
       "<div>\n",
       "<style scoped>\n",
       "    .dataframe tbody tr th:only-of-type {\n",
       "        vertical-align: middle;\n",
       "    }\n",
       "\n",
       "    .dataframe tbody tr th {\n",
       "        vertical-align: top;\n",
       "    }\n",
       "\n",
       "    .dataframe thead th {\n",
       "        text-align: right;\n",
       "    }\n",
       "</style>\n",
       "<table border=\"1\" class=\"dataframe\">\n",
       "  <thead>\n",
       "    <tr style=\"text-align: right;\">\n",
       "      <th></th>\n",
       "      <th>info</th>\n",
       "    </tr>\n",
       "  </thead>\n",
       "  <tbody>\n",
       "    <tr>\n",
       "      <th>0</th>\n",
       "      <td>e_e_e</td>\n",
       "    </tr>\n",
       "    <tr>\n",
       "      <th>1</th>\n",
       "      <td>eeee</td>\n",
       "    </tr>\n",
       "    <tr>\n",
       "      <th>2</th>\n",
       "      <td>eAeBe</td>\n",
       "    </tr>\n",
       "  </tbody>\n",
       "</table>\n",
       "</div>"
      ],
      "text/plain": [
       "    info\n",
       "0  e_e_e\n",
       "1   eeee\n",
       "2  eAeBe"
      ]
     },
     "execution_count": 8,
     "metadata": {},
     "output_type": "execute_result"
    }
   ],
   "source": [
    "def every_other_letter_is_e(string: str) -> bool:\n",
    "    return all((char == \"e\") for char in string[::2])\n",
    "\n",
    "valid_strings_with_e = [\"e_e_e\", \"eeee\", \"eAeBe\"]\n",
    "\n",
    "custom_check_schema = pa.DataFrameSchema({\n",
    "    \"info\": pa.Column(str, checks=pa.Check(every_other_letter_is_e, element_wise=True))\n",
    "})\n",
    "\n",
    "custom_valid_df = pd.DataFrame({'info': valid_strings_with_e})\n",
    "custom_check_schema.validate(custom_valid_df)"
   ]
  },
  {
   "cell_type": "code",
   "execution_count": 9,
   "metadata": {},
   "outputs": [
    {
     "name": "stdout",
     "output_type": "stream",
     "text": [
      "Column 'info' failed element-wise validator number 0: <Check every_other_letter_is_e> failure cases: this_doesnt_pass, nor does this\n"
     ]
    }
   ],
   "source": [
    "invalid_strings_with_e = [\"this_doesnt_pass\", \"nor does this\", \"eeeeeeeeeeeee\"]\n",
    "\n",
    "custom_invalid_df = pd.DataFrame({'info': invalid_strings_with_e})\n",
    "\n",
    "try:\n",
    "    custom_check_schema.validate(custom_invalid_df)\n",
    "except pa.errors.SchemaError as e:\n",
    "    print(e)"
   ]
  },
  {
   "cell_type": "markdown",
   "metadata": {},
   "source": [
    "# Applying Pandera to a Database\n",
    "\n",
    "Pandera is designed to validate various types of DataFrames (pandera, polars, spark), but not tables in a Database.\n",
    "\n",
    "However, some Pandera schemas would be useful to validate the structure of tables because they:\n",
    "- Serve as a source of documentation that must stay in sync with the code, unlike long docstrings which can easily drift from reality\n",
    "- Verify calculations are being done correctly, and avoids tricky issues around types that might otherwise go unnoticed\n",
    "- Serve as a valuable scaffolding while refactoring code\n",
    "\n",
    "To support this, I created the `schema_validator` library!"
   ]
  },
  {
   "cell_type": "markdown",
   "metadata": {},
   "source": [
    "Let's walk through an example of using the schema_validator on the existing `valid_df` that we've defined above"
   ]
  },
  {
   "cell_type": "code",
   "execution_count": 10,
   "metadata": {},
   "outputs": [
    {
     "name": "stderr",
     "output_type": "stream",
     "text": [
      "Pulling image postgres:16\n",
      "Container started: 1e3f2e32c077\n",
      "Waiting to be ready...\n",
      "Waiting to be ready...\n",
      "Waiting to be ready...\n"
     ]
    }
   ],
   "source": [
    "# Spin up a Postgres database in a container\n",
    "postgres = PostgresContainer(\"postgres:16\")\n",
    "postgres.start()\n",
    "engine = sqlalchemy.create_engine(postgres.get_connection_url())"
   ]
  },
  {
   "cell_type": "code",
   "execution_count": 11,
   "metadata": {},
   "outputs": [
    {
     "data": {
      "text/html": [
       "<div>\n",
       "<style scoped>\n",
       "    .dataframe tbody tr th:only-of-type {\n",
       "        vertical-align: middle;\n",
       "    }\n",
       "\n",
       "    .dataframe tbody tr th {\n",
       "        vertical-align: top;\n",
       "    }\n",
       "\n",
       "    .dataframe thead th {\n",
       "        text-align: right;\n",
       "    }\n",
       "</style>\n",
       "<table border=\"1\" class=\"dataframe\">\n",
       "  <thead>\n",
       "    <tr style=\"text-align: right;\">\n",
       "      <th></th>\n",
       "      <th>Name</th>\n",
       "      <th>Age</th>\n",
       "      <th>Genre</th>\n",
       "    </tr>\n",
       "  </thead>\n",
       "  <tbody>\n",
       "    <tr>\n",
       "      <th>0</th>\n",
       "      <td>Alice</td>\n",
       "      <td>25</td>\n",
       "      <td>Pop</td>\n",
       "    </tr>\n",
       "    <tr>\n",
       "      <th>1</th>\n",
       "      <td>Bob</td>\n",
       "      <td>30</td>\n",
       "      <td>Rock</td>\n",
       "    </tr>\n",
       "    <tr>\n",
       "      <th>2</th>\n",
       "      <td>Charlie</td>\n",
       "      <td>35</td>\n",
       "      <td>Jazz</td>\n",
       "    </tr>\n",
       "  </tbody>\n",
       "</table>\n",
       "</div>"
      ],
      "text/plain": [
       "      Name  Age Genre\n",
       "0    Alice   25   Pop\n",
       "1      Bob   30  Rock\n",
       "2  Charlie   35  Jazz"
      ]
     },
     "execution_count": 11,
     "metadata": {},
     "output_type": "execute_result"
    }
   ],
   "source": [
    "# Load the valid_df into the database in a table called valid_example\n",
    "valid_df.to_sql(\"valid_example\", engine, schema=\"public\", index=False, if_exists=\"replace\")\n",
    "\n",
    "with engine.connect() as connection:\n",
    "    valid_df_in_db = pd.read_sql(\"SELECT * FROM public.valid_example\", connection)\n",
    "valid_df_in_db"
   ]
  },
  {
   "cell_type": "markdown",
   "metadata": {},
   "source": [
    "To validate the table, we need to create an instance of the `schema_validator.Table` class which defines:\n",
    "- The Pandera schema to use for validation\n",
    "- The database schema where the table exists\n",
    "- The name of the table"
   ]
  },
  {
   "cell_type": "code",
   "execution_count": 12,
   "metadata": {},
   "outputs": [
    {
     "name": "stderr",
     "output_type": "stream",
     "text": [
      "[DEBUG: 2025-06-15 12:05:58 UTC - table.py:195 - _raise_errors_if_columns_dont_match()] Schema validation passed for table valid_example\n"
     ]
    },
    {
     "data": {
      "text/plain": [
       "public.valid_example"
      ]
     },
     "execution_count": 12,
     "metadata": {},
     "output_type": "execute_result"
    }
   ],
   "source": [
    "valid_table = schema_validator.Table(\n",
    "    name=\"valid_example\",\n",
    "    db_schema=\"public\",\n",
    "    table_schema=example_dataframe_schema\n",
    ")\n",
    "valid_table.validate(engine)"
   ]
  },
  {
   "cell_type": "markdown",
   "metadata": {},
   "source": [
    "Let's create some tables that will not pass validation to see what happens"
   ]
  },
  {
   "cell_type": "code",
   "execution_count": 13,
   "metadata": {},
   "outputs": [
    {
     "name": "stdout",
     "output_type": "stream",
     "text": [
      "Schema validation failed for table missing_column_table: Number of columns in Pandera schema (3) does not match number of columns in database (2).\n",
      "Pandera columns: [Name, Age, Genre]\n",
      "Database columns: [Name, Age]\n"
     ]
    }
   ],
   "source": [
    "# The dataframe we previously defined with the missing \"Genre\" column\n",
    "missing_column_df.to_sql(\"missing_column_table\", engine, schema=\"public\", index=False, if_exists=\"replace\")\n",
    "missing_column_table = schema_validator.Table(\n",
    "    name=\"missing_column_table\",\n",
    "    db_schema=\"public\",\n",
    "    table_schema=example_dataframe_schema\n",
    ")\n",
    "\n",
    "try:\n",
    "    missing_column_table.validate(engine)\n",
    "except schema_validator.exceptions.SchemaValidationError as e:\n",
    "    print(e)"
   ]
  },
  {
   "cell_type": "code",
   "execution_count": 14,
   "metadata": {},
   "outputs": [
    {
     "name": "stdout",
     "output_type": "stream",
     "text": [
      "Schema validation failed for table wrong_type_table:\n",
      "\t- Column Name dtype in the database does not match the Pandera schema: Pandera dtype=<class 'schema_validator.unified_types.String'>, Database dtype=<class 'schema_validator.unified_types.Boolean'>\n",
      "\t- Column Age dtype in the database does not match the Pandera schema: Pandera dtype=<class 'schema_validator.unified_types.Integer'>, Database dtype=<class 'schema_validator.unified_types.Float'>\n",
      "\t- Column Genre dtype in the database does not match the Pandera schema: Pandera dtype=<class 'schema_validator.unified_types.String'>, Database dtype=<class 'schema_validator.unified_types.Integer'>\n"
     ]
    }
   ],
   "source": [
    "wrong_type_df = pd.DataFrame({'Name': [True, False, True], 'Age': [1.1, 2.2, 3.3], 'Genre': [1, 2, 3]})\n",
    "wrong_type_df.to_sql(\"wrong_type_table\", engine, schema=\"public\", index=False, if_exists=\"replace\")\n",
    "\n",
    "wrong_type_table = schema_validator.Table(\n",
    "    name=\"wrong_type_table\",\n",
    "    db_schema=\"public\",\n",
    "    table_schema=example_dataframe_schema\n",
    ")\n",
    "\n",
    "try:\n",
    "    wrong_type_table.validate(engine)\n",
    "except schema_validator.exceptions.SchemaValidationError as e:\n",
    "    print(e)"
   ]
  },
  {
   "cell_type": "markdown",
   "metadata": {},
   "source": [
    "We can also check for whether a column allows null values.\n",
    "\n",
    "By default, Pandera schemas assume columns DO allow null values, while database tables usually assume they don't.\n",
    "\n",
    "To check for nullability, use the `check_nullable` argument to `schema_validator.Table.validate()`."
   ]
  },
  {
   "cell_type": "code",
   "execution_count": 15,
   "metadata": {},
   "outputs": [
    {
     "name": "stdout",
     "output_type": "stream",
     "text": [
      "non-nullable series 'column' contains null values:\n",
      "0    None\n",
      "Name: column, dtype: object\n"
     ]
    }
   ],
   "source": [
    "# Example using Pandera directly on a DataFrame\n",
    "\n",
    "class NoNonesAllowedSchema(pa.DataFrameModel):\n",
    "    column: str = pa.Field(nullable=False)\n",
    "\n",
    "df_with_nones = pd.DataFrame({'column': [None, \"a\", \"b\"]})\n",
    "\n",
    "try:\n",
    "    NoNonesAllowedSchema.validate(df_with_nones)\n",
    "except pa.errors.SchemaError as e:\n",
    "    print(e)"
   ]
  },
  {
   "cell_type": "code",
   "execution_count": 16,
   "metadata": {},
   "outputs": [
    {
     "name": "stdout",
     "output_type": "stream",
     "text": [
      "Schema validation failed for table no_nones_allowed_table:\n",
      "\t- Column column has nullable=False in the schema but nullable=True in the database\n"
     ]
    }
   ],
   "source": [
    "# Example using the schema_validator on the table\n",
    "df_with_nones.to_sql(\"no_nones_allowed_table\", engine, schema=\"public\", index=False, if_exists=\"replace\")\n",
    "\n",
    "no_nones_allowed_table = schema_validator.Table(\n",
    "    name=\"no_nones_allowed_table\",\n",
    "    db_schema=\"public\",\n",
    "    table_schema=NoNonesAllowedSchema\n",
    ")\n",
    "\n",
    "try:\n",
    "    no_nones_allowed_table.validate(engine, check_nullable=True)\n",
    "except schema_validator.exceptions.SchemaValidationError as e:\n",
    "    print(e)"
   ]
  },
  {
   "cell_type": "markdown",
   "metadata": {},
   "source": [
    "# How does it work?\n",
    "\n",
    "Pandera and SQLAlchemy each have their own type systems.\n",
    "Both type systems use inheritance to define more detailed type relations."
   ]
  },
  {
   "cell_type": "code",
   "execution_count": 17,
   "metadata": {},
   "outputs": [
    {
     "name": "stdout",
     "output_type": "stream",
     "text": [
      "SQLAlchemy defines the following types: TypeEngine\n",
      "TypeDecorator\n",
      "UserDefinedType\n",
      "ExternalType\n",
      "INT\n",
      "CHAR\n",
      "VARCHAR\n",
      "NCHAR\n",
      "NVARCHAR\n",
      "TEXT\n",
      "Text\n",
      "FLOAT\n",
      "NUMERIC\n",
      "REAL\n",
      "DECIMAL\n",
      "TIMESTAMP\n",
      "DATETIME\n",
      "CLOB\n",
      "BLOB\n",
      "BINARY\n",
      "VARBINARY\n",
      "BOOLEAN\n",
      "BIGINT\n",
      "SMALLINT\n",
      "INTEGER\n",
      "DATE\n",
      "TIME\n",
      "TupleType\n",
      "String\n",
      "Integer\n",
      "SmallInteger\n",
      "BigInteger\n",
      "Numeric\n",
      "Float\n",
      "DateTime\n",
      "Date\n",
      "Time\n",
      "LargeBinary\n",
      "Boolean\n",
      "Unicode\n",
      "Concatenable\n",
      "UnicodeText\n",
      "PickleType\n",
      "Interval\n",
      "Enum\n",
      "Indexable\n",
      "ARRAY\n",
      "JSON\n"
     ]
    }
   ],
   "source": [
    "sqlalchemy_all_types = '\\n'.join(sqlalchemy.types.__all__)\n",
    "print(f\"SQLAlchemy defines the following types: {sqlalchemy_all_types}\")"
   ]
  },
  {
   "cell_type": "code",
   "execution_count": 18,
   "metadata": {},
   "outputs": [],
   "source": [
    "# Even though there are many types, there are only a handul of base types\n",
    "# https://docs.sqlalchemy.org/en/20/core/type_basics.html\n",
    "assert issubclass(sqlalchemy.TEXT, sqlalchemy.String)\n",
    "assert issubclass(sqlalchemy.VARCHAR, sqlalchemy.String)\n",
    "assert issubclass(sqlalchemy.BigInteger, sqlalchemy.Integer)\n",
    "assert issubclass(sqlalchemy.FLOAT, sqlalchemy.Float)\n",
    "assert issubclass(sqlalchemy.REAL, sqlalchemy.Float)\n",
    "assert issubclass(sqlalchemy.TIMESTAMP, sqlalchemy.DateTime)"
   ]
  },
  {
   "cell_type": "code",
   "execution_count": null,
   "metadata": {},
   "outputs": [
    {
     "ename": "AssertionError",
     "evalue": "",
     "output_type": "error",
     "traceback": [
      "\u001b[0;31m---------------------------------------------------------------------------\u001b[0m",
      "\u001b[0;31mAssertionError\u001b[0m                            Traceback (most recent call last)",
      "Cell \u001b[0;32mIn[19], line 4\u001b[0m\n\u001b[1;32m      2\u001b[0m \u001b[38;5;28;01massert\u001b[39;00m \u001b[38;5;28missubclass\u001b[39m(pa\u001b[38;5;241m.\u001b[39mInt8, pa\u001b[38;5;241m.\u001b[39mInt)\n\u001b[1;32m      3\u001b[0m \u001b[38;5;28;01massert\u001b[39;00m \u001b[38;5;28missubclass\u001b[39m(pa\u001b[38;5;241m.\u001b[39mFloat128, pa\u001b[38;5;241m.\u001b[39mFloat)\n\u001b[0;32m----> 4\u001b[0m \u001b[38;5;28;01massert\u001b[39;00m \u001b[38;5;28missubclass\u001b[39m(pa\u001b[38;5;241m.\u001b[39mString, pa\u001b[38;5;241m.\u001b[39mObject)\n",
      "\u001b[0;31mAssertionError\u001b[0m: "
     ]
    }
   ],
   "source": [
    "# Pandera also has its own type system with similar inheritance\n",
    "assert issubclass(pa.Int8, pa.Int)\n",
    "assert issubclass(pa.Float128, pa.Float)\n",
    "assert issubclass(pa.String, pa.DataType)"
   ]
  },
  {
   "cell_type": "markdown",
   "metadata": {},
   "source": [
    "The `schema_validator` creates its own type system which defines relationships between Pandera and SQLAlchemy types, as well as Python native equivalents"
   ]
  },
  {
   "cell_type": "code",
   "execution_count": null,
   "metadata": {},
   "outputs": [
    {
     "name": "stdout",
     "output_type": "stream",
     "text": [
      "Unified Type <class 'schema_validator.unified_types.String'> wraps <class 'pandera.dtypes.String'>, <class 'sqlalchemy.sql.sqltypes.String'> and <class 'str'>\n",
      "Unified Type <class 'schema_validator.unified_types.Boolean'> wraps <class 'pandera.dtypes.Bool'>, <class 'sqlalchemy.sql.sqltypes.Boolean'> and <class 'bool'>\n",
      "Unified Type <class 'schema_validator.unified_types.Integer'> wraps <class 'pandera.dtypes.Int'>, <class 'sqlalchemy.sql.sqltypes.Integer'> and <class 'int'>\n",
      "Unified Type <class 'schema_validator.unified_types.Float'> wraps <class 'pandera.dtypes.Float'>, <class 'sqlalchemy.sql.sqltypes.Float'> and <class 'float'>\n",
      "Unified Type <class 'schema_validator.unified_types.DateTime'> wraps <class 'pandera.dtypes.Timestamp'>, <class 'sqlalchemy.sql.sqltypes.DateTime'> and <class 'datetime.datetime'>\n",
      "Unified Type <class 'schema_validator.unified_types.Date'> wraps <class 'pandera.dtypes.Date'>, <class 'sqlalchemy.sql.sqltypes.Date'> and <class 'datetime.date'>\n",
      "Unified Type <class 'schema_validator.unified_types.Timedelta'> wraps <class 'pandera.dtypes.Timedelta'>, <class 'sqlalchemy.sql.sqltypes.Interval'> and <class 'datetime.timedelta'>\n",
      "Unified Type <class 'schema_validator.unified_types.NoneType'> wraps None, <class 'sqlalchemy.sql.sqltypes.NullType'> and None\n"
     ]
    }
   ],
   "source": [
    "unified_types = [\n",
    "    schema_validator.unified_types.String,\n",
    "    schema_validator.unified_types.Boolean,\n",
    "    schema_validator.unified_types.Integer,\n",
    "    schema_validator.unified_types.Float,\n",
    "    schema_validator.unified_types.DateTime,\n",
    "    schema_validator.unified_types.Date,\n",
    "    schema_validator.unified_types.Timedelta,\n",
    "    schema_validator.unified_types.NoneType,\n",
    "]\n",
    "\n",
    "for utype in unified_types:\n",
    "    print(f\"Unified Type {utype} wraps {utype.pandera_dtype}, {utype.sqlalchemy_dtype} and {utype.native_type}\")"
   ]
  },
  {
   "cell_type": "markdown",
   "metadata": {},
   "source": [
    "The basic algorithm is:\n",
    "\n",
    "- Use SQLAlchemy's `inspector` to parse the structure of a table\n",
    "- Map the table's types to `UnifiedType`\n",
    "- Map the Pandera schema's types to `UnifiedType`\n",
    "- Compare unified types"
   ]
  },
  {
   "cell_type": "markdown",
   "metadata": {},
   "source": [
    "# Limitations\n",
    "\n",
    "- Most Pandera checks are not supported.  For now, only checking column existence, data type, and nullability is support.\n",
    "    - More complex checks would require reading the whole table, which would be inefficient.\n",
    "- SQLAlchemy's `inspector` does not work well for temporary tables, so we work around this by querying a single row and inferring types from the row.\n",
    "- This approach is highly coupled to Pandera and SQLAlchemy.  If you use a different tool for connecting to a database, this won't work."
   ]
  }
 ],
 "metadata": {
  "kernelspec": {
   "display_name": ".venv",
   "language": "python",
   "name": "python3"
  },
  "language_info": {
   "codemirror_mode": {
    "name": "ipython",
    "version": 3
   },
   "file_extension": ".py",
   "mimetype": "text/x-python",
   "name": "python",
   "nbconvert_exporter": "python",
   "pygments_lexer": "ipython3",
   "version": "3.12.5"
  }
 },
 "nbformat": 4,
 "nbformat_minor": 2
}
